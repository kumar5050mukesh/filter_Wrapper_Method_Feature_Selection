{
 "cells": [
  {
   "cell_type": "code",
   "execution_count": 13,
   "metadata": {},
   "outputs": [
    {
     "data": {
      "text/plain": [
       "'feature selection is choosing the relevant features for the machine learning task .It uses statistical scores for the \\nselection of the features .\\nIt works through these three features \\nfirst is the scoring of the statistical measure \\nsecond is the ranking of the selecting the relevent measures\\nthird is the selecting the best features \\n\\nstatistical measures can be (correalation ,chi squared and the f value ) '"
      ]
     },
     "execution_count": 13,
     "metadata": {},
     "output_type": "execute_result"
    }
   ],
   "source": [
    "# Q1. What is the Filter method in feature selection, and how does it work?\n",
    "\"\"\"feature selection is choosing the relevant features for the machine learning task .It uses statistical scores for the \n",
    "selection of the features .\n",
    "It works through these three features \n",
    "first is the scoring of the statistical measure \n",
    "second is the ranking of the selecting the relevent measures\n",
    "third is the selecting the best features \n",
    "\n",
    "statistical measures can be (correalation ,chi squared and the f value ) \"\"\""
   ]
  },
  {
   "cell_type": "code",
   "execution_count": null,
   "metadata": {},
   "outputs": [],
   "source": [
    "# Q2. How does the Wrapper method differ from the Filter method in feature selection?\n",
    "\"\"\"The wrapper method uses the machine learning algorithm to evalute the performance of the subset\n",
    "Evaluation method- the performance of a given matrics is calculated using the machine learining algorithms \n",
    "where as the filter method used the predefined criteria in the evaluation method \n",
    "\n",
    "feature sunset search - In the selection of the feature subset it used the interaction between the diffrent columns \n",
    ", the method used is algoritms like the greedy search or any other one \n",
    "on the other hand the filter method uses the features as the independent entity and does not consider their interaction \n",
    "\n",
    "Computatio time - because the wrapper method used the machine learining algorithms the computation time that is \n",
    "required increases and it is costileir than the filter method .\n",
    "\n",
    "\n",
    "The dependency of the wrapper method is the model where as the dependency of the filter method is independent .\n",
    "\n",
    "\"\"\""
   ]
  },
  {
   "cell_type": "code",
   "execution_count": null,
   "metadata": {},
   "outputs": [],
   "source": [
    "# Q3. What are some common techniques used in Embedded feature selection methods?\n",
    "\"\"\"embedded feature selection is the part of the model building process \n",
    "\n",
    "Lasso regression- it adds the penalty term to the cost function which eventually put the coefficient of the less important \n",
    "feature to zero \n",
    "\n",
    "Ridge regression- it is another method in which the coefficient of less important features is shrinked resulting in giving\n",
    "less weightage to the coefficient \n",
    "\n",
    "Decesion tree- In decesion tree ,the tree is branched level by level untill a stopping condition is met \n",
    "\n",
    "Random forest is the learning method in which the two or more trees are taken at a time the decesion of the selection \n",
    "of tree depends on the error that has been reduced \n",
    "\n",
    "Elastic net - It is a htbrid model in which the features of both lasso regression and ridge regression is taken.\n",
    "\n",
    "\"\"\""
   ]
  },
  {
   "cell_type": "code",
   "execution_count": null,
   "metadata": {},
   "outputs": [],
   "source": [
    "# Q4. What are some drawbacks of using the Filter method for feature selection?\n",
    "\"\"\"1.It ignores the interactio among the feature parameters\n",
    "2.It is totally dependent of the statisical measure chosen so it can be biased \n",
    "3.it does not adpat to the model to model\n",
    "4.If the datset has large feature it becomes cumbersome to apply the filter method \"\"\""
   ]
  },
  {
   "cell_type": "code",
   "execution_count": null,
   "metadata": {},
   "outputs": [],
   "source": [
    "# Q5. In which situations would you prefer using the Filter method over the Wrapper method for feature\n",
    "# # selection?\n",
    "\"\"\"If the dataset has large features in this case we can use \n",
    "the filer method\n",
    "\n",
    "In the case where the data vizualisation and the explainotary data analysis is needed in this case the filter method is used \n",
    "\n",
    "\n",
    "filter method is less prone to overfitting \"\"\""
   ]
  },
  {
   "cell_type": "code",
   "execution_count": null,
   "metadata": {},
   "outputs": [],
   "source": [
    "# Q6. In a telecom company, you are working on a project to develop a predictive model for customer churn.\n",
    "# You are unsure of which features to include in the model because the dataset contains several different\n",
    "# ones. Describe how you would choose the most pertinent attributes for the model using the Filter Method.\n",
    "\n",
    "\n",
    "\n",
    "import pandas as pd\n",
    "from sklearn.feature_selection import SelectKBest\n",
    "from sklearn.feature_selection import chi2\n",
    "\n",
    "\"\"\"first we will load the datset having the churning data  of the customers \"\"\"\n",
    "data = pd.read_csv(\"customer_churn.csv\")\n",
    "\n",
    "\"\"\"split the data into feature and the target variable \"\"\"\n",
    "X = data.iloc[:, :-1]\n",
    "y = data.iloc[:, -1]\n",
    "\"\"\"use the chi squre technique to and choose the no of features to select \"\"\"\n",
    "selector = SelectKBest(chi2, k=10)\n",
    "\n",
    "\"\"\"then transform the data using the parameter of the X and y\"\"\"\n",
    "X_new = selector.fit_transform(X, y)\n",
    "\n",
    "\"\"\"print the indicies of the selected block\"\"\"\n",
    "print(selector.get_support(indices=True))\n"
   ]
  },
  {
   "cell_type": "code",
   "execution_count": null,
   "metadata": {},
   "outputs": [],
   "source": [
    "# Q7. You are working on a project to predict the outcome of a soccer match. You have a large dataset with\n",
    "# many features, including player statistics and team rankings. Explain how you would use the Embedded\n",
    "# method to select the most relevant features for the model.\n",
    "\n",
    "\n",
    "\n",
    "\n",
    "\"\"\" preprocess the data for any missing value and the relevent scaling \n",
    "\n",
    "\n",
    "define the target variable in this case it will be win loss or the draw \n",
    "\n",
    "\n",
    "select the suitable model in this case it may be the logistic regression \n",
    "\n",
    "\n",
    "Add the regularisation parameters \n",
    "\n",
    "train the model \n",
    "\n",
    "evaluate the model\n",
    "\n",
    "features with the highest coefficent is chosen for the features \n",
    "\n",
    "\"\"\"\n",
    "\n",
    "\n",
    "\n",
    "\n",
    "\n",
    "\n"
   ]
  },
  {
   "cell_type": "code",
   "execution_count": 2,
   "metadata": {},
   "outputs": [
    {
     "name": "stdout",
     "output_type": "stream",
     "text": [
      "Requirement already satisfied: sklearn in c:\\users\\mukka\\appdata\\local\\programs\\python\\python311\\lib\\site-packages (0.0.post1)\n"
     ]
    }
   ],
   "source": [
    "# Q8. You are working on a project to predict the price of a house based on its features, such as size, location,\n",
    "# and age. You have a limited number of features, and you want to ensure that you select the most important\n",
    "# ones for the model. Explain how you would use the Wrapper method to select the best set of features for the\n",
    "# predictor.\n",
    "\n",
    "\n",
    "\n",
    "\"\"\"The wrapper method creates a subset of features by using the machine learing algorithm \n",
    "\n",
    "\n",
    "preprocess the data for any missing value or catagorical data \n",
    "\n",
    "select the suitable model it may be the linear or regression model\n",
    "\n",
    "define the evluatio matrics \n",
    "\n",
    "create a subset of the features \n",
    "\n",
    "in the forward elimaination you start with the empty set and then add the features that you find relevent and \n",
    "i backward elimaintation first you take the full set then starts removing the featurs that are not relevent .\n",
    "\n",
    "\n",
    "train and evaluate the model \n",
    "\n",
    "select  the best features \n",
    "\n",
    "\n",
    "refine the model using the hyper parameters\n",
    "\n",
    "\n",
    "\"\"\"\n",
    "\n",
    "\n",
    "Stop generating\n"
   ]
  },
  {
   "cell_type": "code",
   "execution_count": null,
   "metadata": {},
   "outputs": [],
   "source": []
  }
 ],
 "metadata": {
  "kernelspec": {
   "display_name": "Python 3",
   "language": "python",
   "name": "python3"
  },
  "language_info": {
   "codemirror_mode": {
    "name": "ipython",
    "version": 3
   },
   "file_extension": ".py",
   "mimetype": "text/x-python",
   "name": "python",
   "nbconvert_exporter": "python",
   "pygments_lexer": "ipython3",
   "version": "3.11.2"
  },
  "orig_nbformat": 4
 },
 "nbformat": 4,
 "nbformat_minor": 2
}
